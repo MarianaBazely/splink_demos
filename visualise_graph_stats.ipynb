{
 "cells": [
  {
   "cell_type": "code",
   "execution_count": null,
   "metadata": {},
   "outputs": [],
   "source": [
    "import pandas as pd "
   ]
  },
  {
   "cell_type": "markdown",
   "metadata": {},
   "source": [
    "## Node-level (person-level) inforamtion"
   ]
  },
  {
   "cell_type": "code",
   "execution_count": null,
   "metadata": {},
   "outputs": [],
   "source": [
    "nodestats = pd.read_parquet(\"data/temp/nodestats.parquet\")\n",
    "nodestats.columns = [\"index\", \"cluster_id\", \"node_id\", \"eigen_centrality\"]\n",
    "nodestats"
   ]
  },
  {
   "cell_type": "markdown",
   "metadata": {},
   "source": [
    "## Edge-level (pairwise-comparison level) information"
   ]
  },
  {
   "cell_type": "code",
   "execution_count": null,
   "metadata": {},
   "outputs": [],
   "source": [
    "df_e = pd.read_parquet('data/graph/df_e.parquet') \n",
    "edges = pd.read_parquet(\"data/temp/edgestats.parquet\")\n",
    "df_e = df_e.drop(\"tf_adjusted_match_prob\",axis=1)\n",
    "df_e = edges.merge(df_e, left_on=['src', 'dst'], right_on = ['unique_id_l', 'unique_id_r'])\n",
    "df_e = df_e.rename(columns={'component': 'cluster_id', 'eb': 'edge_betweenness'})\n",
    "df_e.head(5)"
   ]
  },
  {
   "cell_type": "markdown",
   "metadata": {},
   "source": [
    "## Subgraph-level (cluster-level) information"
   ]
  },
  {
   "cell_type": "code",
   "execution_count": 4,
   "metadata": {},
   "outputs": [
    {
     "data": {
      "text/html": [
       "<div>\n",
       "<style scoped>\n",
       "    .dataframe tbody tr th:only-of-type {\n",
       "        vertical-align: middle;\n",
       "    }\n",
       "\n",
       "    .dataframe tbody tr th {\n",
       "        vertical-align: top;\n",
       "    }\n",
       "\n",
       "    .dataframe thead th {\n",
       "        text-align: right;\n",
       "    }\n",
       "</style>\n",
       "<table border=\"1\" class=\"dataframe\">\n",
       "  <thead>\n",
       "    <tr style=\"text-align: right;\">\n",
       "      <th></th>\n",
       "      <th>cluster_id</th>\n",
       "      <th>node_ids</th>\n",
       "      <th>nodecount</th>\n",
       "      <th>edgecount</th>\n",
       "      <th>density</th>\n",
       "      <th>diameter</th>\n",
       "      <th>radius</th>\n",
       "      <th>transitivity</th>\n",
       "      <th>tri_clustcoeff</th>\n",
       "      <th>sq_clustcoeff</th>\n",
       "      <th>graphhash</th>\n",
       "    </tr>\n",
       "  </thead>\n",
       "  <tbody>\n",
       "    <tr>\n",
       "      <th>0</th>\n",
       "      <td>12</td>\n",
       "      <td>[226, 227, 228]</td>\n",
       "      <td>3</td>\n",
       "      <td>3</td>\n",
       "      <td>1.0</td>\n",
       "      <td>1</td>\n",
       "      <td>1</td>\n",
       "      <td>1.0</td>\n",
       "      <td>1.0</td>\n",
       "      <td>0.0</td>\n",
       "      <td>7d2c307dbd866960fae5a905cc5447de</td>\n",
       "    </tr>\n",
       "    <tr>\n",
       "      <th>1</th>\n",
       "      <td>28</td>\n",
       "      <td>[409, 411]</td>\n",
       "      <td>2</td>\n",
       "      <td>1</td>\n",
       "      <td>1.0</td>\n",
       "      <td>1</td>\n",
       "      <td>1</td>\n",
       "      <td>0.0</td>\n",
       "      <td>0.0</td>\n",
       "      <td>0.0</td>\n",
       "      <td>2148f1da1ac29711e1273e364d4127c4</td>\n",
       "    </tr>\n",
       "  </tbody>\n",
       "</table>\n",
       "</div>"
      ],
      "text/plain": [
       "   cluster_id         node_ids  nodecount  edgecount  density  diameter  \\\n",
       "0          12  [226, 227, 228]          3          3      1.0         1   \n",
       "1          28       [409, 411]          2          1      1.0         1   \n",
       "\n",
       "   radius  transitivity  tri_clustcoeff  sq_clustcoeff  \\\n",
       "0       1           1.0             1.0            0.0   \n",
       "1       1           0.0             0.0            0.0   \n",
       "\n",
       "                          graphhash  \n",
       "0  7d2c307dbd866960fae5a905cc5447de  \n",
       "1  2148f1da1ac29711e1273e364d4127c4  "
      ]
     },
     "execution_count": 4,
     "metadata": {},
     "output_type": "execute_result"
    }
   ],
   "source": [
    "graphstats = pd.read_parquet(\"data/temp/graphstats.parquet\")\n",
    "graphstats = graphstats.rename(columns={'component': 'cluster_id', 'nodes': 'node_ids'})\n",
    "graphstats.head(2)"
   ]
  },
  {
   "cell_type": "markdown",
   "metadata": {},
   "source": [
    "## Visualisation"
   ]
  },
  {
   "cell_type": "markdown",
   "metadata": {},
   "source": [
    "#### Node data"
   ]
  },
  {
   "cell_type": "code",
   "execution_count": 5,
   "metadata": {},
   "outputs": [],
   "source": [
    "def link_data_with_tooltip(df, source_field = 'src', target_field='dst', cols_to_retain=[], cols_to_drop_from_tooltip=[], cluster_id = None, cluster_field='cluster_id'):\n",
    "    if cluster_id:\n",
    "        df = df[df[cluster_field] == cluster_id]\n",
    "        \n",
    "    recs =  df.to_dict(orient='records')\n",
    "    new_recs = []\n",
    "    for r in recs:\n",
    "        new_row = {}\n",
    "        \n",
    "        for c in cols_to_retain:\n",
    "            new_row[c] = r[c]\n",
    "            new_row['source'] = r[source_field]\n",
    "            new_row['target'] = r[target_field]\n",
    "        \n",
    "        tooltip_cols = [c for c in r.keys() if c not in cols_to_drop_from_tooltip]\n",
    "        tooltip = {}\n",
    "        for c in tooltip_cols:\n",
    "            tooltip[c] = r[c] \n",
    "        new_row['tooltip'] = tooltip\n",
    "        new_recs.append(new_row)\n",
    "    return new_recs\n",
    "\n",
    "def node_data_with_tooltip(df, cols_to_retain=['cluster_id'], cols_to_drop_from_tooltip=[], cluster_id=None, cluster_field='cluster_id' ):\n",
    "    if cluster_id:\n",
    "        df = df[df[cluster_field] == cluster_id]\n",
    "        \n",
    "    recs =  df.to_dict(orient='records')\n",
    "    new_recs = []\n",
    "    for r in recs:\n",
    "        new_row = {}\n",
    "        \n",
    "        for c in cols_to_retain:\n",
    "            new_row[c] = r[c]\n",
    "        \n",
    "        tooltip_cols = [c for c in r.keys() if c not in cols_to_drop_from_tooltip]\n",
    "        tooltip = {}\n",
    "        for c in tooltip_cols:\n",
    "            tooltip[c] = r[c] \n",
    "        new_row['tooltip'] = tooltip\n",
    "        new_recs.append(new_row)\n",
    "    return new_recs\n",
    "\n"
   ]
  },
  {
   "cell_type": "code",
   "execution_count": 16,
   "metadata": {},
   "outputs": [],
   "source": [
    "import json\n",
    "def display_outputs(cluster_id, df_e, nodestats, graphstats):\n",
    "    \n",
    "    link_data = link_data_with_tooltip(df_e, cluster_id=cluster_id, cols_to_retain = ['match_probability', 'edge_betweenness'],cols_to_drop_from_tooltip=['cluster_id', 'src', 'dst', 'group_l', 'group_r'])\n",
    "\n",
    "    node_data = node_data_with_tooltip(nodestats,cols_to_retain = ['cluster_id', 'eigen_centrality', 'node_id'], cluster_id=cluster_id)\n",
    "\n",
    "    with open('data/graph/force_template.vg.json') as f:\n",
    "        vl = json.load(f)\n",
    "    vl['data'][0] = {\n",
    "        \"name\": \"node-data\",\n",
    "        \"values\":node_data\n",
    "\n",
    "    }\n",
    "\n",
    "    vl['data'][1] = {\n",
    "        \"name\": \"link-data\",\n",
    "        \"values\":  link_data\n",
    "\n",
    "    }\n",
    "\n",
    "    vl['width'] = 400\n",
    "    vl['height'] = 400\n",
    "    from IPython.display import Javascript\n",
    "    script = f\"\"\"\n",
    "       var script = document.createElement('script');\n",
    "        script.type = 'text/javascript';\n",
    "        script.src = '//cdn.jsdelivr.net/npm/vega@5';\n",
    "        document.head.appendChild(script);\n",
    "\n",
    "        var script = document.createElement('script');\n",
    "        script.type = 'text/javascript';\n",
    "        script.src = '//cdn.jsdelivr.net/npm/vega-embed@6';\n",
    "        document.head.appendChild(script);\n",
    "\n",
    "        var spec = `{json.dumps(vl)}`\n",
    "        spec= JSON.parse(spec)\n",
    "        vegaEmbed(element, spec).then(function(result) {{\n",
    "          }}).catch(console.error);  \n",
    "    \"\"\"\n",
    "    display(graphstats[graphstats['cluster_id'] == cluster_id])\n",
    "    display(df_e[df_e['cluster_id'] == cluster_id])\n",
    "\n",
    "    display(Javascript(script))\n",
    "    "
   ]
  },
  {
   "cell_type": "code",
   "execution_count": 26,
   "metadata": {},
   "outputs": [],
   "source": [
    "from IPython.display import display, clear_output\n",
    "import ipywidgets as widgets\n"
   ]
  },
  {
   "cell_type": "code",
   "execution_count": 27,
   "metadata": {},
   "outputs": [],
   "source": [
    "output = widgets.Output()"
   ]
  },
  {
   "cell_type": "code",
   "execution_count": 28,
   "metadata": {},
   "outputs": [],
   "source": [
    "dd_values = list(nodestats[\"cluster_id\"].unique())\n",
    "\n"
   ]
  },
  {
   "cell_type": "code",
   "execution_count": 33,
   "metadata": {},
   "outputs": [],
   "source": [
    "w = widgets.Dropdown(\n",
    "    options=dd_values,\n",
    "\n",
    "    description='Cluster:',\n",
    ")\n"
   ]
  },
  {
   "cell_type": "code",
   "execution_count": 34,
   "metadata": {},
   "outputs": [],
   "source": [
    "def on_change(change):\n",
    "    output.clear_output()\n",
    "    with output:\n",
    "        display_outputs(change['new'], df_e, nodestats, graphstats)\n",
    "\n",
    "\n"
   ]
  },
  {
   "cell_type": "code",
   "execution_count": 35,
   "metadata": {},
   "outputs": [],
   "source": [
    "w.observe(on_change,names=['value'])\n",
    "\n"
   ]
  },
  {
   "cell_type": "code",
   "execution_count": null,
   "metadata": {},
   "outputs": [],
   "source": []
  },
  {
   "cell_type": "code",
   "execution_count": 36,
   "metadata": {},
   "outputs": [
    {
     "data": {
      "application/vnd.jupyter.widget-view+json": {
       "model_id": "7cf3484bca634d2985df41e450f6070d",
       "version_major": 2,
       "version_minor": 0
      },
      "text/plain": [
       "Dropdown(description='Cluster:', options=(12, 28, 29, 30, 33, 42, 67, 8589934628, 8589934658, 8589934662, 1717…"
      ]
     },
     "metadata": {},
     "output_type": "display_data"
    },
    {
     "data": {
      "application/vnd.jupyter.widget-view+json": {
       "model_id": "491f55170aae4873853db7269065ef20",
       "version_major": 2,
       "version_minor": 0
      },
      "text/plain": [
       "Output(outputs=({'output_type': 'display_data', 'data': {'text/plain': '     cluster_id    node_ids  nodecount…"
      ]
     },
     "metadata": {},
     "output_type": "display_data"
    }
   ],
   "source": [
    "display(w)\n",
    "output"
   ]
  },
  {
   "cell_type": "code",
   "execution_count": null,
   "metadata": {},
   "outputs": [],
   "source": []
  },
  {
   "cell_type": "code",
   "execution_count": null,
   "metadata": {},
   "outputs": [],
   "source": []
  },
  {
   "cell_type": "code",
   "execution_count": null,
   "metadata": {},
   "outputs": [],
   "source": []
  },
  {
   "cell_type": "code",
   "execution_count": null,
   "metadata": {},
   "outputs": [],
   "source": []
  },
  {
   "cell_type": "code",
   "execution_count": null,
   "metadata": {},
   "outputs": [],
   "source": []
  },
  {
   "cell_type": "code",
   "execution_count": null,
   "metadata": {},
   "outputs": [],
   "source": []
  }
 ],
 "metadata": {
  "kernelspec": {
   "display_name": "Python 3",
   "language": "python",
   "name": "python3"
  },
  "language_info": {
   "codemirror_mode": {
    "name": "ipython",
    "version": 3
   },
   "file_extension": ".py",
   "mimetype": "text/x-python",
   "name": "python",
   "nbconvert_exporter": "python",
   "pygments_lexer": "ipython3",
   "version": "3.8.3"
  }
 },
 "nbformat": 4,
 "nbformat_minor": 4
}
