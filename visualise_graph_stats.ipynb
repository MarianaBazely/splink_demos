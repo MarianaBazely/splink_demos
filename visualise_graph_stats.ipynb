{
 "cells": [
  {
   "cell_type": "code",
   "execution_count": 1,
   "metadata": {},
   "outputs": [],
   "source": [
    "import pandas as pd "
   ]
  },
  {
   "cell_type": "markdown",
   "metadata": {},
   "source": [
    "## Node-level (person-level) inforamtion"
   ]
  },
  {
   "cell_type": "code",
   "execution_count": 2,
   "metadata": {},
   "outputs": [
    {
     "data": {
      "text/html": [
       "<div>\n",
       "<style scoped>\n",
       "    .dataframe tbody tr th:only-of-type {\n",
       "        vertical-align: middle;\n",
       "    }\n",
       "\n",
       "    .dataframe tbody tr th {\n",
       "        vertical-align: top;\n",
       "    }\n",
       "\n",
       "    .dataframe thead th {\n",
       "        text-align: right;\n",
       "    }\n",
       "</style>\n",
       "<table border=\"1\" class=\"dataframe\">\n",
       "  <thead>\n",
       "    <tr style=\"text-align: right;\">\n",
       "      <th></th>\n",
       "      <th>index</th>\n",
       "      <th>cluster_id</th>\n",
       "      <th>node_id</th>\n",
       "      <th>eigen_centrality</th>\n",
       "    </tr>\n",
       "  </thead>\n",
       "  <tbody>\n",
       "    <tr>\n",
       "      <th>0</th>\n",
       "      <td>226</td>\n",
       "      <td>12</td>\n",
       "      <td>226</td>\n",
       "      <td>0.577350</td>\n",
       "    </tr>\n",
       "    <tr>\n",
       "      <th>1</th>\n",
       "      <td>227</td>\n",
       "      <td>12</td>\n",
       "      <td>227</td>\n",
       "      <td>0.577350</td>\n",
       "    </tr>\n",
       "    <tr>\n",
       "      <th>2</th>\n",
       "      <td>228</td>\n",
       "      <td>12</td>\n",
       "      <td>228</td>\n",
       "      <td>0.577350</td>\n",
       "    </tr>\n",
       "    <tr>\n",
       "      <th>3</th>\n",
       "      <td>409</td>\n",
       "      <td>28</td>\n",
       "      <td>409</td>\n",
       "      <td>0.707107</td>\n",
       "    </tr>\n",
       "    <tr>\n",
       "      <th>4</th>\n",
       "      <td>411</td>\n",
       "      <td>28</td>\n",
       "      <td>411</td>\n",
       "      <td>0.707107</td>\n",
       "    </tr>\n",
       "    <tr>\n",
       "      <th>...</th>\n",
       "      <td>...</td>\n",
       "      <td>...</td>\n",
       "      <td>...</td>\n",
       "      <td>...</td>\n",
       "    </tr>\n",
       "    <tr>\n",
       "      <th>421</th>\n",
       "      <td>194</td>\n",
       "      <td>34359738372</td>\n",
       "      <td>194</td>\n",
       "      <td>0.707107</td>\n",
       "    </tr>\n",
       "    <tr>\n",
       "      <th>422</th>\n",
       "      <td>879</td>\n",
       "      <td>34359738441</td>\n",
       "      <td>879</td>\n",
       "      <td>0.707107</td>\n",
       "    </tr>\n",
       "    <tr>\n",
       "      <th>423</th>\n",
       "      <td>880</td>\n",
       "      <td>34359738441</td>\n",
       "      <td>880</td>\n",
       "      <td>0.707107</td>\n",
       "    </tr>\n",
       "    <tr>\n",
       "      <th>424</th>\n",
       "      <td>954</td>\n",
       "      <td>42949673030</td>\n",
       "      <td>954</td>\n",
       "      <td>0.707107</td>\n",
       "    </tr>\n",
       "    <tr>\n",
       "      <th>425</th>\n",
       "      <td>956</td>\n",
       "      <td>42949673030</td>\n",
       "      <td>956</td>\n",
       "      <td>0.707107</td>\n",
       "    </tr>\n",
       "  </tbody>\n",
       "</table>\n",
       "<p>426 rows × 4 columns</p>\n",
       "</div>"
      ],
      "text/plain": [
       "    index   cluster_id node_id  eigen_centrality\n",
       "0     226           12     226          0.577350\n",
       "1     227           12     227          0.577350\n",
       "2     228           12     228          0.577350\n",
       "3     409           28     409          0.707107\n",
       "4     411           28     411          0.707107\n",
       "..    ...          ...     ...               ...\n",
       "421   194  34359738372     194          0.707107\n",
       "422   879  34359738441     879          0.707107\n",
       "423   880  34359738441     880          0.707107\n",
       "424   954  42949673030     954          0.707107\n",
       "425   956  42949673030     956          0.707107\n",
       "\n",
       "[426 rows x 4 columns]"
      ]
     },
     "execution_count": 2,
     "metadata": {},
     "output_type": "execute_result"
    }
   ],
   "source": [
    "nodestats = pd.read_parquet(\"data/temp/nodestats.parquet\")\n",
    "nodestats.columns = [\"index\", \"cluster_id\", \"node_id\", \"eigen_centrality\"]\n",
    "nodestats"
   ]
  },
  {
   "cell_type": "markdown",
   "metadata": {},
   "source": [
    "## Edge-level (pairwise-comparison level) information"
   ]
  },
  {
   "cell_type": "code",
   "execution_count": null,
   "metadata": {},
   "outputs": [],
   "source": [
    "df_e = pd.read_parquet('data/graph/df_e.parquet') \n",
    "edges = pd.read_parquet(\"data/temp/edgestats.parquet\")\n",
    "df_e = df_e.drop(\"tf_adjusted_match_prob\",axis=1)\n",
    "df_e = edges.merge(df_e, left_on=['src', 'dst'], right_on = ['unique_id_l', 'unique_id_r'])\n",
    "df_e = df_e.rename(columns={'component': 'cluster_id', 'eb': 'edge_betweenness'})\n",
    "df_e.head(5)"
   ]
  },
  {
   "cell_type": "markdown",
   "metadata": {},
   "source": [
    "## Subgraph-level (cluster-level) information"
   ]
  },
  {
   "cell_type": "code",
   "execution_count": null,
   "metadata": {},
   "outputs": [],
   "source": [
    "graphstats = pd.read_parquet(\"data/temp/graphstats.parquet\")\n",
    "graphstats = graphstats.rename(columns={'component': 'cluster_id', 'nodes': 'node_ids'})\n",
    "graphstats.head(2)"
   ]
  },
  {
   "cell_type": "markdown",
   "metadata": {},
   "source": [
    "## Visualisation"
   ]
  },
  {
   "cell_type": "markdown",
   "metadata": {},
   "source": [
    "#### Node data"
   ]
  },
  {
   "cell_type": "code",
   "execution_count": 323,
   "metadata": {},
   "outputs": [],
   "source": [
    "def link_data_with_tooltip(df, source_field = 'src', target_field='dst', cols_to_retain=[], cols_to_drop_from_tooltip=[], cluster_id = None, cluster_field='cluster_id'):\n",
    "    if cluster_id:\n",
    "        df = df[df[cluster_field] == cluster_id]\n",
    "        \n",
    "    recs =  df.to_dict(orient='records')\n",
    "    new_recs = []\n",
    "    for r in recs:\n",
    "        new_row = {}\n",
    "        \n",
    "        for c in cols_to_retain:\n",
    "            new_row[c] = r[c]\n",
    "            new_row['source'] = r[source_field]\n",
    "            new_row['target'] = r[target_field]\n",
    "        \n",
    "        tooltip_cols = [c for c in r.keys() if c not in cols_to_drop_from_tooltip]\n",
    "        tooltip = {}\n",
    "        for c in tooltip_cols:\n",
    "            tooltip[c] = r[c] \n",
    "        new_row['tooltip'] = tooltip\n",
    "        new_recs.append(new_row)\n",
    "    return new_recs\n",
    "\n",
    "def node_data_with_tooltip(df, cols_to_retain=['cluster_id'], cols_to_drop_from_tooltip=[], cluster_id=None, cluster_field='cluster_id' ):\n",
    "    if cluster_id:\n",
    "        df = df[df[cluster_field] == cluster_id]\n",
    "        \n",
    "    recs =  df.to_dict(orient='records')\n",
    "    new_recs = []\n",
    "    for r in recs:\n",
    "        new_row = {}\n",
    "        \n",
    "        for c in cols_to_retain:\n",
    "            new_row[c] = r[c]\n",
    "        \n",
    "        tooltip_cols = [c for c in r.keys() if c not in cols_to_drop_from_tooltip]\n",
    "        tooltip = {}\n",
    "        for c in tooltip_cols:\n",
    "            tooltip[c] = r[c] \n",
    "        new_row['tooltip'] = tooltip\n",
    "        new_recs.append(new_row)\n",
    "    return new_recs\n",
    "\n",
    "def get_markdown(graphstats_row_as_df):\n",
    "    c = graphstats_row_as_df.to_dict(orient=\"records\")[0]\n",
    "    md = []\n",
    "    md.append(f\"## Cluster ID: {c['cluster_id']}\")\n",
    "    md.append(f\"Nodes: {c['nodecount']}, Edges: {c['edgecount']}\")\n",
    "    md.append(f\"[Density](https://bookdown.org/omarlizardo/_main/2-9-density.html): {c['density']}\")\n",
    "    md.append(f\"[Diameter](https://mathworld.wolfram.com/GraphDiameter.html#:~:text=is%20a%20graph%20distance.,loop%20are%20excluded%20from%20consideration.): {c['diameter']}\")\n",
    "    md.append(f\"Radius: {c['radius']}, transitivity: {c['transitivity']}\")\n",
    "    md.append(f\"Triangle cluster coefficient: {c['tri_clustcoeff']}, Square cluster coefficient: {c['sq_clustcoeff']}\")\n",
    "    \n",
    "    \n",
    "    \n",
    "    return ('\\n\\n').join(md)"
   ]
  },
  {
   "cell_type": "code",
   "execution_count": 324,
   "metadata": {},
   "outputs": [
    {
     "data": {
      "application/vnd.jupyter.widget-view+json": {
       "model_id": "0456c2120e0f4bae8458c5680ac10fe2",
       "version_major": 2,
       "version_minor": 0
      },
      "text/plain": [
       "Dropdown(description='Cluster:', index=20, options=(1, 3, 4, 6, 7, 12, 13, 18, 20, 22, 24, 27, 28, 29, 30, 32,…"
      ]
     },
     "metadata": {},
     "output_type": "display_data"
    },
    {
     "data": {
      "application/vnd.jupyter.widget-view+json": {
       "model_id": "6ab593e8dd82462c90fb1d4eec4675ae",
       "version_major": 2,
       "version_minor": 0
      },
      "text/plain": [
       "RadioButtons(description='Edge metric', options=('edge_betweenness', 'match_probability'), value='edge_between…"
      ]
     },
     "metadata": {},
     "output_type": "display_data"
    },
    {
     "data": {
      "application/vnd.jupyter.widget-view+json": {
       "model_id": "9b0ac758eeab4bd983a91c0c4cfcb207",
       "version_major": 2,
       "version_minor": 0
      },
      "text/plain": [
       "Output()"
      ]
     },
     "metadata": {},
     "output_type": "display_data"
    }
   ],
   "source": [
    "import json\n",
    "from IPython.display import display, clear_output\n",
    "import ipywidgets as widgets\n",
    "\n",
    "def display_outputs(cluster_id, df_e, nodestats, graphstats,edge_metric=\"edge_betweenness\"):\n",
    "    \n",
    "    link_data = link_data_with_tooltip(df_e, cluster_id=cluster_id, cols_to_retain = ['match_probability', 'edge_betweenness'],cols_to_drop_from_tooltip=['cluster_id', 'src', 'dst', 'group_l', 'group_r'])\n",
    "\n",
    "    node_data = node_data_with_tooltip(nodestats,cols_to_retain = ['cluster_id', 'eigen_centrality', 'node_id'], cluster_id=cluster_id)\n",
    "\n",
    "    with open('data/graph/force_template.vg.json') as f:\n",
    "        vl = json.load(f)\n",
    "    vl['data'][0] = {\n",
    "        \"name\": \"node-data\",\n",
    "        \"values\":node_data\n",
    "\n",
    "    }\n",
    "\n",
    "    vl['data'][1] = {\n",
    "        \"name\": \"link-data\",\n",
    "        \"values\":  link_data\n",
    "\n",
    "    }\n",
    "\n",
    "    vl['width'] = 400\n",
    "    vl['height'] = 400\n",
    "    \n",
    "    if edge_metric == \"match_probability\":\n",
    "        vl[\"scales\"][1][\"domain\"][\"field\"] = \"match_probability\"\n",
    "        vl[\"scales\"][3][\"domain\"] = {\"data\": \"link-data\",\"field\": \"match_probability\"}\n",
    "        vl[\"scales\"][1][\"range\"][\"reverse\"] = False\n",
    "        vl[\"marks\"][1][\"encode\"][\"update\"][\"stroke\"][\"field\"] = \"match_probability\"\n",
    "        vl[\"marks\"][0][\"transform\"][0][\"forces\"][3][\"distance\"][\"expr\"] = \"scale('edge_length_scale',datum.match_probability)*linkDistance\"\n",
    "        \n",
    "        \n",
    "    from IPython.display import Javascript\n",
    "    script = f\"\"\"\n",
    "       var script = document.createElement('script');\n",
    "        script.type = 'text/javascript';\n",
    "        script.src = '//cdn.jsdelivr.net/npm/vega@5';\n",
    "        document.head.appendChild(script);\n",
    "\n",
    "        var script = document.createElement('script');\n",
    "        script.type = 'text/javascript';\n",
    "        script.src = '//cdn.jsdelivr.net/npm/vega-embed@6';\n",
    "        document.head.appendChild(script);\n",
    "\n",
    "        var spec = `{json.dumps(vl)}`\n",
    "        spec= JSON.parse(spec)\n",
    "        vegaEmbed(element, spec).then(function(result) {{\n",
    "          }}).catch(console.error);  \n",
    "    \"\"\"\n",
    "    md = get_markdown(graphstats[graphstats['cluster_id'] == cluster_id])\n",
    "    display(Markdown(md))\n",
    "    display(df_e[df_e['cluster_id'] == cluster_id])\n",
    "    display(Javascript(script))\n",
    "#     display(print(json.dumps(vl,indent=4)))\n",
    "    \n",
    "def on_change(change):\n",
    "    output.clear_output()\n",
    "    cluster_id = dd_cluster_id.value\n",
    "    edge_metric = dd_edge_metric.value\n",
    "    \n",
    "    with output:\n",
    "        display_outputs(cluster_id, df_e, nodestats, graphstats, edge_metric=edge_metric)\n",
    "\n",
    "\n",
    "output = widgets.Output()\n",
    "\n",
    "\n",
    "    \n",
    "\n",
    "dd_values = sorted(list(nodestats[\"cluster_id\"].unique()))\n",
    "\n",
    "dd_cluster_id = widgets.Dropdown(\n",
    "    options=dd_values,\n",
    "    value=39,\n",
    "    description='Cluster:',\n",
    ")\n",
    "\n",
    "\n",
    "\n",
    "\n",
    "dd_cluster_id.observe(on_change,names=['value'])\n",
    "\n",
    "dd_edge_metric = widgets.RadioButtons(description='Edge metric', options=['edge_betweenness','match_probability'])\n",
    "\n",
    "\n",
    "dd_cluster_id.observe(on_change, names='value')\n",
    "dd_edge_metric.observe(on_change, names='value')\n",
    "\n",
    "display(dd_cluster_id)\n",
    "display(dd_edge_metric)\n",
    "display(output)\n",
    "on_change(None)\n"
   ]
  },
  {
   "cell_type": "code",
   "execution_count": null,
   "metadata": {},
   "outputs": [],
   "source": []
  },
  {
   "cell_type": "code",
   "execution_count": 316,
   "metadata": {},
   "outputs": [
    {
     "data": {
      "text/markdown": [
       "## Cluster ID: 39\n",
       "\n",
       "Nodes: 4, Edges: 5\n",
       "\n",
       "[Density](https://bookdown.org/omarlizardo/_main/2-9-density.html): 0.833\n",
       "\n",
       "[Diameter](https://mathworld.wolfram.com/GraphDiameter.html#:~:text=is%20a%20graph%20distance.,loop%20are%20excluded%20from%20consideration.): 2"
      ],
      "text/plain": [
       "<IPython.core.display.Markdown object>"
      ]
     },
     "execution_count": 316,
     "metadata": {},
     "output_type": "execute_result"
    }
   ],
   "source": []
  },
  {
   "cell_type": "code",
   "execution_count": null,
   "metadata": {},
   "outputs": [],
   "source": [
    "\n",
    "\n"
   ]
  }
 ],
 "metadata": {
  "kernelspec": {
   "display_name": "Python 3",
   "language": "python",
   "name": "python3"
  },
  "language_info": {
   "codemirror_mode": {
    "name": "ipython",
    "version": 3
   },
   "file_extension": ".py",
   "mimetype": "text/x-python",
   "name": "python",
   "nbconvert_exporter": "python",
   "pygments_lexer": "ipython3",
   "version": "3.8.3"
  }
 },
 "nbformat": 4,
 "nbformat_minor": 4
}
